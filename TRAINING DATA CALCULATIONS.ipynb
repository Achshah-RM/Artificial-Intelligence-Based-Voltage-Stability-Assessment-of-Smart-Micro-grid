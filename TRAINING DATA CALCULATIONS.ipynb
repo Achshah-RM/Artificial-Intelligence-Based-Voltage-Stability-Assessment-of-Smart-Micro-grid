{
 "cells": [
  {
   "cell_type": "markdown",
   "id": "dc040b41",
   "metadata": {},
   "source": [
    "# TRAINING DATA CALCULATIONS"
   ]
  },
  {
   "cell_type": "markdown",
   "id": "8a76ffa2",
   "metadata": {},
   "source": [
    "## IMPORTING"
   ]
  },
  {
   "cell_type": "code",
   "execution_count": 1,
   "id": "697ba8de",
   "metadata": {},
   "outputs": [],
   "source": [
    "import math as mt\n",
    "from math import cos\n",
    "from math import sin\n",
    "from math import radians\n",
    "from math import degrees\n",
    "import numpy as np\n",
    "from numpy import array\n",
    "from numpy import shape\n",
    "import warnings\n",
    "warnings.filterwarnings(\"ignore\")"
   ]
  },
  {
   "cell_type": "markdown",
   "id": "74c45dc3",
   "metadata": {},
   "source": [
    "## CALCULATED Y BUS:"
   ]
  },
  {
   "cell_type": "code",
   "execution_count": 2,
   "id": "5d5f63cf",
   "metadata": {},
   "outputs": [],
   "source": [
    "Y11 = 18.12\n",
    "THETA11 = radians(-75.9)\n",
    "\n",
    "Y22 = 15.58\n",
    "THETA22 = radians(-74.3)\n",
    "\n",
    "Y33 = 21.59\n",
    "THETA33 = radians(-74.7)\n",
    "\n",
    "Y12 = 6.06\n",
    "THETA12 = radians(104)\n",
    "\n",
    "Y21 = 6.06\n",
    "THETA21 = radians(104)\n",
    "\n",
    "Y13 = 12.13\n",
    "THETA13 = radians(104)\n",
    "\n",
    "Y31 = 12.13\n",
    "THETA31 = radians(104)\n",
    "\n",
    "Y23 = 9.57\n",
    "THETA23 = radians(106.7)\n",
    "\n",
    "Y32 = 9.57\n",
    "THETA32 = radians(106.7)"
   ]
  },
  {
   "cell_type": "markdown",
   "id": "cd41d323",
   "metadata": {},
   "source": [
    "## GIVEN DATA IN EACH BUS:"
   ]
  },
  {
   "cell_type": "code",
   "execution_count": 3,
   "id": "a32259c6",
   "metadata": {},
   "outputs": [
    {
     "name": "stdout",
     "output_type": "stream",
     "text": [
      "Solar generation is: 0.0033333333333333335\n",
      "Wind generation is: 0.23076923076923078\n"
     ]
    }
   ],
   "source": [
    "S = 13\n",
    "G = 40\n",
    "\n",
    "if (S<3 and S>25):\n",
    "    P_wr = 0\n",
    "elif (S>3 and S<16):\n",
    "    P_wr= 0.3*((S-3)/13)\n",
    "else:\n",
    "    P_wr = 0.3\n",
    "    \n",
    "if (G<120):\n",
    "    P_sr = 0.2*((G*G)/96000)\n",
    "else:\n",
    "    P_sr = 0.2*(G/800)\n",
    "    \n",
    "print(\"Solar generation is:\", P_sr)\n",
    "print(\"Wind generation is:\", P_wr)"
   ]
  },
  {
   "cell_type": "code",
   "execution_count": 4,
   "id": "3d4b59df",
   "metadata": {},
   "outputs": [],
   "source": [
    "# BUS 1 --> SLACK BUS\n",
    "\n",
    "V1 = 1.04\n",
    "DELTA1 = 0\n",
    "\n",
    "# BUS 2 --> LOAD BUS\n",
    "\n",
    "PL_2 = 0.5\n",
    "P2_SP = P_wr - PL_2\n",
    "Q2_SP = -0.3\n",
    "\n",
    "# BUS 3 --> LOAD BUS\n",
    "\n",
    "PL_3 = 0.35\n",
    "P3_SP = P_sr - PL_3\n",
    "Q3_SP = -0.4"
   ]
  },
  {
   "cell_type": "markdown",
   "id": "5746abf3",
   "metadata": {},
   "source": [
    "## RECURSIVE FUNCTION TO GET THE VALUE OF V2, V3, DELTA2 AND DELTA3"
   ]
  },
  {
   "cell_type": "code",
   "execution_count": 5,
   "id": "9c4bc18b",
   "metadata": {},
   "outputs": [],
   "source": [
    "# ASSUMING A INITIAL VALUE\n",
    "\n",
    "V2 = 1\n",
    "V3 = 1\n",
    "DELTA2 = 0\n",
    "DELTA3 = 0\n",
    "i=1\n",
    "\n",
    "# DEFINING THE FUNCTION\n",
    "\n",
    "def cal_v():\n",
    "    \n",
    "    global V2, V3, DELTA2, DELTA3, i\n",
    "    i = i+1\n",
    "    \n",
    "    # CALCULATING THE VALUES OF P2_CAL, P3_CAL, Q2_CAL AND Q3_CAL\n",
    "    \n",
    "    P2_CAL = ((V2*Y21*V1*cos(DELTA1-DELTA2+THETA21))+(V2*V2*Y22*cos(THETA22))+\n",
    "                 (V2*Y23*V3*cos(DELTA3-DELTA2+THETA23)))\n",
    "    P3_CAL = ((V3*Y31*V1*cos(DELTA1-DELTA3+THETA31))+(V3*V2*Y32*cos(DELTA2-DELTA3+THETA32))+\n",
    "                 (V3*Y33*V3*cos(THETA33)))\n",
    "    Q2_CAL = (-(V2*Y21*V1*sin(DELTA1-DELTA2+THETA21))-(V2*V2*Y22*sin(THETA22))-\n",
    "                 (V2*Y23*V3*sin(DELTA3-DELTA2+THETA23)))\n",
    "    Q3_CAL = (-(V3*Y31*V1*sin(DELTA1-DELTA3+THETA31))-(V3*V2*Y32*sin(DELTA2-DELTA3+THETA32))-\n",
    "                 (V3*Y33*V3*sin(THETA33)))\n",
    "    \n",
    "    # CALCULATING THE VALUES OF DEL_P2, DEL_P3, DEL_Q2 AND DEL_Q3\n",
    "    \n",
    "    DEL_P2 = P2_SP - P2_CAL\n",
    "    DEL_P3 = P3_SP - P3_CAL\n",
    "    DEL_Q2 = Q2_SP - Q2_CAL\n",
    "    DEL_Q3 = Q3_SP - Q3_CAL\n",
    "    \n",
    "    if (abs(DEL_P2)>0.01 and abs(DEL_Q2)>0.01 and abs(DEL_P3)>0.01 and abs(DEL_Q3)>0.01):\n",
    "        \n",
    "        M11 = ((V2*Y21*V1*sin(DELTA1-DELTA2+THETA21))+(V2*Y23*V3*sin(DELTA3-DELTA2+THETA23)))\n",
    "        M12 = -(V2*Y23*V3*sin(DELTA3-DELTA2+THETA23))\n",
    "        M13 = ((Y21*V1*cos(DELTA1-DELTA2+THETA21))+(2*V2*Y22*cos(THETA22)+Y23*V3*cos(DELTA3-DELTA2+THETA23)))\n",
    "        M14 = (V2*Y23*cos(DELTA3-DELTA2+THETA23))\n",
    "        M31 = ((V2*Y21*V1*cos(DELTA1-DELTA2+THETA21))+(V2*Y23*V3*cos(DELTA3-DELTA2+THETA23)))\n",
    "        M32 = -(V2*Y23*V3*cos(DELTA3-DELTA2+THETA23))\n",
    "        M33 = ((-Y21*V1*sin(DELTA1-DELTA2+THETA21))-(2*V2*Y22*sin(THETA22))-(Y23*V3*sin(DELTA3-DELTA2+THETA23)))\n",
    "        M34 = (-V2*Y23*sin(DELTA3-DELTA2+THETA23))\n",
    "        M21 = (-V3*Y32*V2*sin(DELTA2-DELTA3+THETA32))\n",
    "        M22 = ((V3*Y31*V1*sin(DELTA1-DELTA3+THETA31))+(V3*Y32*V2*sin(DELTA2-DELTA3+THETA32)))\n",
    "        M23 = (V3*Y32*cos(DELTA2-DELTA3+THETA32))\n",
    "        M24 = ((Y31*V1*cos(DELTA1-DELTA3+THETA31))+(Y32*V2*cos(DELTA2-DELTA3+THETA32))+(2*V3*Y33*cos(THETA33)))\n",
    "        M41 = -(V3*Y32*V2*cos(DELTA2-DELTA3+THETA32))\n",
    "        M42 = ((V3*Y31*V1*cos(DELTA1-DELTA3+THETA31))+(V3*Y32*V2*cos(DELTA2-DELTA3+THETA32)))\n",
    "        M43 = -(V3*Y32*sin(DELTA2-DELTA3+THETA32))\n",
    "        M44 = (-(Y31*V1*sin(DELTA1-DELTA3+THETA31))-(Y32*V2*sin(DELTA2-DELTA3+THETA32))-(2*V3*Y33*sin(THETA33)))\n",
    "        \n",
    "        J = array([[M11, M12, M13, M14], [M21, M22, M23, M24], [M31, M32, M33, M34], [M41, M42, M43, M44]])\n",
    "        #print(\"\\nThe Jacobines matrix is:\\n\\n\",J,\"\\n\")\n",
    "        J_INV = np.linalg.inv(J)\n",
    "        #print(\"The inverse of Jacobines matrix is:\\n\\n\",J_INV,\"\\n\\n->>>The shape of matrix is\",shape(J_INV),\"\\n\")\n",
    "        \n",
    "        M_DEL = array([[DEL_P2],[DEL_P3],[DEL_Q2],[DEL_Q3]])\n",
    "        #print(\"The matrix of del is:\\n\\n\",M_DEL,\"\\n\\n->>>The shape of the matrix is\",shape(M_DEL),\"\\n\")\n",
    "        \n",
    "        M = np.dot(J_INV,M_DEL)\n",
    "        #print(\"The final matrix is:\\n\\n\",M,\"\\n\")\n",
    "        \n",
    "        V2 = V2+ M[2,0]\n",
    "        V3 = V3+ M[3,0]\n",
    "        DELTA2 = DELTA2+ M[0,0]\n",
    "        DELTA3 = DELTA3+ M[1,0]\n",
    "        \n",
    "        # Calling the Function\n",
    "        \n",
    "        cal_v()\n",
    "        \n",
    "    else:\n",
    "            print(\"\\nV2 = \",V2,\"\\nV3 = \",V3,\"\\nDELTA2 = \",degrees(DELTA2),\"\\nDELTA3 = \",degrees(DELTA3))\n",
    "            print(\"\\nThe number of iterations:\",i)"
   ]
  },
  {
   "cell_type": "markdown",
   "id": "cf19b973",
   "metadata": {},
   "source": [
    "## CALLING THE RECURSIVE FUNCTION"
   ]
  },
  {
   "cell_type": "code",
   "execution_count": 6,
   "id": "0b83f8e8",
   "metadata": {},
   "outputs": [
    {
     "name": "stdout",
     "output_type": "stream",
     "text": [
      "\n",
      "V2 =  0.9986771594797009 \n",
      "V3 =  1.0050838952744343 \n",
      "DELTA2 =  -1.5550556286522268 \n",
      "DELTA3 =  -1.3987558443073251\n",
      "\n",
      "The number of iterations: 3\n"
     ]
    }
   ],
   "source": [
    "cal_v()"
   ]
  },
  {
   "cell_type": "code",
   "execution_count": null,
   "id": "3c17e8ff",
   "metadata": {},
   "outputs": [],
   "source": []
  }
 ],
 "metadata": {
  "kernelspec": {
   "display_name": "Python 3",
   "language": "python",
   "name": "python3"
  },
  "language_info": {
   "codemirror_mode": {
    "name": "ipython",
    "version": 3
   },
   "file_extension": ".py",
   "mimetype": "text/x-python",
   "name": "python",
   "nbconvert_exporter": "python",
   "pygments_lexer": "ipython3",
   "version": "3.8.8"
  }
 },
 "nbformat": 4,
 "nbformat_minor": 5
}
